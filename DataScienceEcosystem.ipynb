{
  "cells": [
    {
      "cell_type": "markdown",
      "metadata": {
        "id": "9JjSFALvTNoB"
      },
      "source": [
        "<center>\n",
        "    <img src=\"https://cf-courses-data.s3.us.cloud-object-storage.appdomain.cloud/IBMDeveloperSkillsNetwork-DS0105EN-SkillsNetwork/labs/Module2/images/SN_web_lightmode.png\" width=\"300\" alt=\"cognitiveclass.ai logo\">\n",
        "</center>\n"
      ]
    },
    {
      "cell_type": "markdown",
      "metadata": {
        "id": "i3wIVI7fTNoD"
      },
      "source": [
        "#### Add your code below following the instructions given in the course\n"
      ]
    },
    {
      "cell_type": "markdown",
      "source": [
        "# Data Science Ecosystem"
      ],
      "metadata": {
        "id": "BuoRLdIMTl1E"
      }
    },
    {
      "cell_type": "markdown",
      "source": [
        "In this notebook, Data Science Tools and Ecosystem are summarized."
      ],
      "metadata": {
        "id": "Xxt-KiT9UF6V"
      }
    },
    {
      "cell_type": "markdown",
      "source": [
        "Some of the popular languages that Data Scientists use are :\n",
        "1. Python\n",
        "2. R\n",
        "3. Java\n",
        "4. SQL\n",
        "5. Scala\n",
        "6. Julia\n",
        "7. MATLAB"
      ],
      "metadata": {
        "id": "PtSsmA9aUZXE"
      }
    },
    {
      "cell_type": "markdown",
      "source": [
        "Some of the commonly used libraries used by Data Scientists include :\n",
        "1. pandas\n",
        "2. scikit-learn\n",
        "3. numpy\n",
        "4. matplotlib\n",
        "5. seaborn\n",
        "6. tensorflow\n",
        "7. ggplot2\n",
        "8. plotly\n",
        "9. lattice\n",
        "1. leaflet"
      ],
      "metadata": {
        "id": "vCuouRcUV3R6"
      }
    },
    {
      "cell_type": "markdown",
      "source": [
        "|**Data Science Tools**|\n",
        "|-|\n",
        "|Jupyter Notebook|\n",
        "|RStudio|\n",
        "|VS Code|\n"
      ],
      "metadata": {
        "id": "l4PkSOM7X3Qm"
      }
    },
    {
      "cell_type": "markdown",
      "source": [
        "### Below are a few examples of evaluating arithmetic expressions in Python.\n"
      ],
      "metadata": {
        "id": "GJ7dQ3EAZt7g"
      }
    },
    {
      "cell_type": "code",
      "source": [
        "#This a simple arithmetic expression to mutiply then add integers\n",
        "(3*4)+5"
      ],
      "metadata": {
        "colab": {
          "base_uri": "https://localhost:8080/"
        },
        "id": "Xd2sLx5IUFoq",
        "outputId": "3759d83c-f7d3-4edc-ea56-933ea25fd49c"
      },
      "execution_count": 1,
      "outputs": [
        {
          "output_type": "execute_result",
          "data": {
            "text/plain": [
              "17"
            ]
          },
          "metadata": {},
          "execution_count": 1
        }
      ]
    },
    {
      "cell_type": "code",
      "execution_count": 4,
      "metadata": {
        "colab": {
          "base_uri": "https://localhost:8080/"
        },
        "id": "55spkjdDTNoD",
        "outputId": "9e1efbef-af07-4d94-9df2-8f5e8096b253"
      },
      "outputs": [
        {
          "output_type": "stream",
          "name": "stdout",
          "text": [
            "Enter the number of minutes : 200\n",
            "200 min is equivalent to  3.3333333333333335 hrs\n"
          ]
        }
      ],
      "source": [
        "#This will convert 200 minutes to hours by diving by 60\n",
        "min= int(input(\"Enter the number of minutes : \"))\n",
        "hour= min/60.0\n",
        "print(min,\"min is equivalent to \",hour,\"hrs\")"
      ]
    },
    {
      "cell_type": "markdown",
      "source": [
        "**Objectives**:\n",
        "\n",
        "\n",
        "*   List of popular languages used in data science\n",
        "*   List pf popular libraries used by data scientists\n",
        "*   Sample arithmetic operation demo\n",
        "*   Simple python program demo\n",
        "\n",
        "\n",
        "\n",
        "\n"
      ],
      "metadata": {
        "id": "lvaj87gAczfM"
      }
    },
    {
      "cell_type": "markdown",
      "source": [
        "## Author\n",
        "Joel Joseph Justin"
      ],
      "metadata": {
        "id": "fCtXRpAHhzve"
      }
    }
  ],
  "metadata": {
    "kernelspec": {
      "display_name": "Python",
      "language": "python",
      "name": "conda-env-python-py"
    },
    "language_info": {
      "name": ""
    },
    "colab": {
      "provenance": []
    }
  },
  "nbformat": 4,
  "nbformat_minor": 0
}